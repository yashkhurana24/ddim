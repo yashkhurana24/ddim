{
 "cells": [
  {
   "cell_type": "code",
   "execution_count": 2,
   "metadata": {},
   "outputs": [
    {
     "name": "stdout",
     "output_type": "stream",
     "text": [
      "FID score for diffusion: 52\n",
      "FID score for Gan: 97\n"
     ]
    }
   ],
   "source": [
    "import torch\n",
    "from torchvision.models import inception_v3\n",
    "import torchvision.transforms as transforms\n",
    "import numpy as np\n",
    "from scipy.linalg import sqrtm\n",
    "import glob\n",
    "from PIL import Image\n",
    "\n",
    "def calculate_fid(model, images1, images2):\n",
    "    # Function to calculate Frechet Inception Distance (FID) score\n",
    "    def calculate_frechet_distance(mu1, sigma1, mu2, sigma2, eps=1e-6):\n",
    "        covmean = sqrtm(sigma1.dot(sigma2), disp=False)[0]\n",
    "        return np.square(mu1 - mu2).sum() + np.trace(sigma1 + sigma2 - 2 * covmean)\n",
    "\n",
    "    # Preprocess images\n",
    "    preprocess = transforms.Compose([\n",
    "        transforms.Resize((299, 299)),\n",
    "        transforms.ToTensor(),\n",
    "        transforms.Normalize(mean=[0.485, 0.456, 0.406], std=[0.229, 0.224, 0.225]),\n",
    "    ])\n",
    "    images1 = torch.stack([preprocess(img) for img in images1])\n",
    "    images2 = torch.stack([preprocess(img) for img in images2])\n",
    "\n",
    "    # Get predictions\n",
    "    with torch.no_grad():\n",
    "        pred1 = model(images1)\n",
    "        pred2 = model(images2)\n",
    "\n",
    "    # Calculate mean and covariance\n",
    "    mu1, sigma1 = pred1.mean(0).numpy(), np.cov(pred1.numpy(), rowvar=False)\n",
    "    mu2, sigma2 = pred2.mean(0).numpy(), np.cov(pred2.numpy(), rowvar=False)\n",
    "\n",
    "    # Calculate FID\n",
    "    fid = calculate_frechet_distance(mu1, sigma1, mu2, sigma2)\n",
    "\n",
    "    return fid\n",
    "\n",
    "def load_images(folder_path, file_ext):\n",
    "    images = []\n",
    "    for filename in glob.glob(f'{folder_path}/*.{file_ext}'):  # Adjust file extension as needed\n",
    "        with open(filename, 'rb') as f:\n",
    "            image = Image.open(f).convert('RGB')\n",
    "            images.append(image)\n",
    "    return images[:-1]\n",
    "\n",
    "# Load InceptionV3 model\n",
    "inception_model = inception_v3(pretrained=True).eval()\n",
    "\n",
    "# Load your datasets\n",
    "real_images = load_images('./test', 'jpg')  # Update with the path to real images\n",
    "fake_images = load_images('./model_outptus/diffusion', 'jpeg')  # Update with the path to generated images\n",
    "\n",
    "# Calculate FID Score\n",
    "fid_score_diff = calculate_fid(inception_model, real_images, fake_images)\n",
    "print(f'FID score for diffusion: {fid_score_diff}')\n",
    "\n",
    "# Gans\n",
    "fake_images = load_images('./model_outptus/gan', 'png')  # Update with the path to generated images\n",
    "\n",
    "# Calculate FID Score\n",
    "fid_score_gan = calculate_fid(inception_model, real_images, fake_images)\n",
    "print(f'FID score for Gan: {fid_score_gan}')\n"
   ]
  }
 ],
 "metadata": {
  "kernelspec": {
   "display_name": "base",
   "language": "python",
   "name": "python3"
  },
  "language_info": {
   "codemirror_mode": {
    "name": "ipython",
    "version": 3
   },
   "file_extension": ".py",
   "mimetype": "text/x-python",
   "name": "python",
   "nbconvert_exporter": "python",
   "pygments_lexer": "ipython3",
   "version": "3.10.12"
  },
  "orig_nbformat": 4
 },
 "nbformat": 4,
 "nbformat_minor": 2
}
